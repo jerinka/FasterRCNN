{
 "cells": [
  {
   "cell_type": "markdown",
   "metadata": {
    "id": "I7hWxPZ_XARK"
   },
   "source": [
    "You can check [here](https://github.com/facebookresearch/detectron2/blob/master/INSTALL.md) to get needed environment, but you don't need to worry it in colab."
   ]
  },
  {
   "cell_type": "code",
   "execution_count": 1,
   "metadata": {
    "colab": {
     "base_uri": "https://localhost:8080/"
    },
    "id": "_crpZuTPQDkR",
    "outputId": "6d951edb-7f4c-4a0d-89fe-ae5a6b2bd4fe",
    "scrolled": true
   },
   "outputs": [
    {
     "name": "stdout",
     "output_type": "stream",
     "text": [
      "1.5.0+cu101 True\n",
      "gcc (Ubuntu 7.5.0-3ubuntu1~18.04) 7.5.0\n",
      "Copyright (C) 2017 Free Software Foundation, Inc.\n",
      "This is free software; see the source for copying conditions.  There is NO\n",
      "warranty; not even for MERCHANTABILITY or FITNESS FOR A PARTICULAR PURPOSE.\n",
      "\n"
     ]
    }
   ],
   "source": [
    "## install dependencies: (use cu101 because colab has CUDA 10.1)\n",
    "#!pip install -U torch==1.5 torchvision==0.6 -f https://download.pytorch.org/whl/cu101/torch_stable.html \n",
    "#!pip install cython pyyaml==5.1\n",
    "#!pip install -U 'git+https://github.com/cocodataset/cocoapi.git#subdirectory=PythonAPI'\n",
    "#!pip install detectron2==0.1.3 -f https://dl.fbaipublicfiles.com/detectron2/wheels/cu101/torch1.5/index.html\n",
    "#!pip3 install opencv-python\n",
    "\n",
    "import torch, torchvision\n",
    "print(torch.__version__, torch.cuda.is_available())\n",
    "import cv2\n",
    "!gcc --version"
   ]
  },
  {
   "cell_type": "markdown",
   "metadata": {
    "id": "AXGwzO4bYd-a"
   },
   "source": []
  },
  {
   "cell_type": "code",
   "execution_count": 2,
   "metadata": {
    "id": "-R4nVxQ9arDS"
   },
   "outputs": [],
   "source": [
    "# You may need to restart your runtime prior to this, to let your installation take effect\n",
    "# Some basic setup\n",
    "# Setup detectron2 logger\n",
    "import detectron2\n",
    "from detectron2.utils.logger import setup_logger\n",
    "setup_logger()\n",
    "\n",
    "# import some common libraries\n",
    "import numpy as np\n",
    "import cv2\n",
    "import random\n",
    "#from google.colab.patches import cv2_imshow\n",
    "\n",
    "# import some common detectron2 utilities\n",
    "from detectron2 import model_zoo\n",
    "from detectron2.engine import DefaultPredictor\n",
    "from detectron2.config import get_cfg\n",
    "from detectron2.utils.visualizer import Visualizer\n",
    "from detectron2.data import MetadataCatalog"
   ]
  },
  {
   "cell_type": "code",
   "execution_count": 3,
   "metadata": {
    "id": "q35KxEiha-FW"
   },
   "outputs": [],
   "source": [
    "import matplotlib.pyplot as plt\n",
    "import torchvision.transforms as transforms\n",
    "from matplotlib.pyplot import imshow\n",
    "from PIL import Image\n",
    "import IPython\n",
    "def cv2_imshow(img):\n",
    "    img = img[:,:,[2,1,0]]\n",
    "    img = Image.fromarray(img)\n",
    "    plt.figure(figsize=(20, 20))\n",
    "    plt.imshow(img)\n",
    "    plt.axis('off')\n",
    "    plt.show()"
   ]
  },
  {
   "cell_type": "markdown",
   "metadata": {
    "id": "qQ4MJ-Y0kRb0"
   },
   "source": [
    "We have to take the data out from the .txt file."
   ]
  },
  {
   "cell_type": "code",
   "execution_count": 4,
   "metadata": {
    "colab": {
     "base_uri": "https://localhost:8080/"
    },
    "id": "4gBSKxfIbAvx",
    "outputId": "5d64e81c-fa52-4ef3-c75b-65764cced0b0"
   },
   "outputs": [
    {
     "name": "stdout",
     "output_type": "stream",
     "text": [
      "[['DeepSign/data/00005.png', 'DeepSign/labels/00005.txt'], ['DeepSign/data/00002.png', 'DeepSign/labels/00002.txt']]\n",
      "[['DeepSign/data/00005.png', 'DeepSign/labels/00005.txt'], ['DeepSign/data/00002.png', 'DeepSign/labels/00002.txt']]\n"
     ]
    }
   ],
   "source": [
    "import csv\n",
    "train, test = [],[]\n",
    "def take_path(x,d):\n",
    "    with open(d) as t:\n",
    "        #print(t.read())\n",
    "        #print(type(csv.reader(t)))\n",
    "        tmp = csv.reader(t,delimiter=' ')\n",
    "        for i in tmp:\n",
    "            x.append(i)\n",
    "\n",
    "take_path(test,'DeepSign/trainval.txt')\n",
    "print(test[:2])\n",
    "take_path(train,'DeepSign/trainval.txt')\n",
    "print(train[:2])"
   ]
  },
  {
   "cell_type": "code",
   "execution_count": 5,
   "metadata": {
    "colab": {
     "base_uri": "https://localhost:8080/"
    },
    "id": "3xcDXNFrcGNb",
    "outputId": "6629d1a1-687d-426e-f24a-f60dc9144395"
   },
   "outputs": [
    {
     "name": "stdout",
     "output_type": "stream",
     "text": [
      "720 1280\n"
     ]
    }
   ],
   "source": [
    "height, width = cv2.imread(test[0][0]).shape[:2]\n",
    "print(height, width)"
   ]
  },
  {
   "cell_type": "markdown",
   "metadata": {
    "id": "5Q86pwLtCFRC"
   },
   "source": [
    "# New Section"
   ]
  },
  {
   "cell_type": "code",
   "execution_count": 7,
   "metadata": {
    "id": "KblexGhBcMcG"
   },
   "outputs": [],
   "source": [
    "import os\n",
    "import numpy as np\n",
    "import json\n",
    "from detectron2.structures import BoxMode\n",
    "\n",
    "os.environ[\"CUDA_VISIBLE_DEVICES\"] = \"0\"\n",
    "\n",
    "#DatasetCatalog.clear()\n",
    "#If you want to clear the data you registered, uncomment the upper line.\n",
    "\n",
    "def get_PCB_dict(data_list):\n",
    "    dataset_dicts = []\n",
    "    \n",
    "    for i,path in enumerate(data_list):\n",
    "        filename = path[0]\n",
    "        height, width = cv2.imread(filename).shape[:2]\n",
    "        record = {}\n",
    "        record['file_name'] = filename\n",
    "        record['image_id'] = i\n",
    "        record['height']= height\n",
    "        record['width']= width\n",
    "        \n",
    "        \n",
    "        objs = []\n",
    "        with open(path[1]) as t:\n",
    "            lines = t.readlines()\n",
    "            for line in lines:\n",
    "                if line[-1]==\"\\n\":\n",
    "                  box = line[:-1].split(' ')\n",
    "                else:\n",
    "                  box = line.split(' ')\n",
    "\n",
    "\n",
    "                boxes = list(map(float,[box[0],box[1],box[2],box[3]]))\n",
    "                category = int(box[4])\n",
    "\n",
    "                obj = {\n",
    "                    \"bbox\": boxes,\n",
    "                    \"bbox_mode\": BoxMode.XYXY_ABS,\n",
    "                    #\"segmentation\": [poly], To draw a line, along to ballon\n",
    "                    #you will need this for mask RCNN\n",
    "                    \"category_id\": category-1,\n",
    "                    \"iscrowd\": 0\n",
    "                }\n",
    "                objs.append(obj)\n",
    "            record[\"annotations\"] = objs\n",
    "        dataset_dicts.append(record)\n",
    "    return dataset_dicts #list of dicts"
   ]
  },
  {
   "cell_type": "code",
   "execution_count": null,
   "metadata": {
    "id": "a8mjhILWmiNp"
   },
   "outputs": [],
   "source": [
    "from detectron2.data import DatasetCatalog, MetadataCatalog\n",
    "for d,x in [(\"train\",train), (\"test\",test)]:\n",
    "    DatasetCatalog.register(\"PCB_\" + d, lambda x=x: get_PCB_dict(x))\n",
    "    MetadataCatalog.get(\"PCB_\" + d).set(thing_classes=[\"open\", \"short\", \"mousebite\", \"spur\", \"copper\", \"pin-hole\"],thing_colors=[(255,0,0),(0,255,0),(0,0,255),(255,255,0),(255,0,255),(0,255,255)])\n",
    "    #I set the colors, but it's no use. Retry after training.\n",
    "PCB_metadata = MetadataCatalog.get(\"PCB_train\")"
   ]
  },
  {
   "cell_type": "code",
   "execution_count": null,
   "metadata": {
    "colab": {
     "base_uri": "https://localhost:8080/"
    },
    "id": "mHas9kLJmii9",
    "outputId": "bc471d66-28b6-486a-f446-cf6fc38d8d59"
   },
   "outputs": [],
   "source": [
    "#check dataset\n",
    "print(type(PCB_metadata))\n",
    "MetadataCatalog.get(\"PCB_test\")"
   ]
  },
  {
   "cell_type": "markdown",
   "metadata": {
    "id": "WDTgQh2YIvD6"
   },
   "source": [
    "Get all the data and check the content inside"
   ]
  },
  {
   "cell_type": "code",
   "execution_count": null,
   "metadata": {
    "id": "7F_8u0ormk_6"
   },
   "outputs": [],
   "source": [
    "dataset_dicts = get_PCB_dict(train)"
   ]
  },
  {
   "cell_type": "code",
   "execution_count": null,
   "metadata": {
    "colab": {
     "base_uri": "https://localhost:8080/"
    },
    "id": "xmRqIdTCmp4f",
    "outputId": "f313bbf0-6f50-4435-9cbb-f49d5a2d5bae"
   },
   "outputs": [],
   "source": [
    "print(dataset_dicts[0])\n",
    "print(dataset_dicts[1])"
   ]
  },
  {
   "cell_type": "code",
   "execution_count": null,
   "metadata": {
    "colab": {
     "base_uri": "https://localhost:8080/",
     "height": 1000
    },
    "id": "-dhOH6P9qYIh",
    "outputId": "80166aed-3598-449e-c1ce-f50c2e10e8ab"
   },
   "outputs": [],
   "source": [
    "for d in random.sample(dataset_dicts, 2):\n",
    "    img = cv2.imread(d[\"file_name\"])\n",
    "    visualizer = Visualizer(img[:, :, ::-1], metadata=PCB_metadata, scale=0.5)\n",
    "    vis = visualizer.draw_dataset_dict(d)\n",
    "    cv2_imshow(vis.get_image()[:, :, ::-1])"
   ]
  },
  {
   "cell_type": "code",
   "execution_count": null,
   "metadata": {
    "colab": {
     "base_uri": "https://localhost:8080/"
    },
    "id": "SGxmYFXQqYsD",
    "outputId": "77003b43-f190-4f4d-91e0-a42dcb31e4d6"
   },
   "outputs": [],
   "source": [
    "from detectron2.engine import DefaultTrainer\n",
    "from detectron2.config import get_cfg\n",
    "\n",
    "cfg = get_cfg()\n",
    "cfg.merge_from_file(model_zoo.get_config_file(\"COCO-Detection/faster_rcnn_R_50_FPN_3x.yaml\"))\n",
    "cfg.DATASETS.TRAIN = (\"PCB_train\",)\n",
    "cfg.DATASETS.TEST = ()\n",
    "cfg.DATALOADER.NUM_WORKERS = 0\n",
    "cfg.MODEL.WEIGHTS = \"detectron2://COCO-Detection/faster_rcnn_R_50_FPN_3x/137849458/model_final_280758.pkl\"  # Let training initialize from model zoo\n",
    "cfg.SOLVER.IMS_PER_BATCH = 2\n",
    "cfg.SOLVER.BASE_LR = 0.00025  # pick a good LR\n",
    "cfg.SOLVER.MAX_ITER = 30    # 300 iterations seems good enough for this toy dataset; you may need to train longer for a practical dataset\n",
    "cfg.MODEL.ROI_HEADS.BATCH_SIZE_PER_IMAGE = 4096   # faster, and good enough for this toy dataset (default: 512)\n",
    "cfg.MODEL.ROI_HEADS.NUM_CLASSES = 6 \n",
    "\n",
    "os.makedirs(cfg.OUTPUT_DIR, exist_ok=True)\n",
    "trainer = DefaultTrainer(cfg) \n",
    "#trainer.resume_or_load(resume=False)\n",
    "trainer.train()\n",
    "#It will train about 20 minutes in colab."
   ]
  },
  {
   "cell_type": "code",
   "execution_count": null,
   "metadata": {
    "colab": {
     "base_uri": "https://localhost:8080/"
    },
    "id": "tfOeEVBA_XZ7",
    "outputId": "6cb11c9f-ac5c-4966-d8a3-efe196d5d914",
    "scrolled": true
   },
   "outputs": [],
   "source": [
    "from detectron2.engine import DefaultTrainer\n",
    "from detectron2.config import get_cfg\n",
    "\n",
    "cfg = get_cfg()\n",
    "cfg.merge_from_file(model_zoo.get_config_file(\"COCO-Detection/faster_rcnn_R_50_FPN_3x.yaml\"))\n",
    "cfg.DATASETS.TRAIN = (\"PCB_train\",)\n",
    "cfg.DATASETS.TEST = ()\n",
    "cfg.DATALOADER.NUM_WORKERS = 0\n",
    "cfg.MODEL.WEIGHTS = \"detectron2://COCO-Detection/faster_rcnn_R_50_FPN_3x/137849458/model_final_280758.pkl\"  # Let training initialize from model zoo\n",
    "cfg.SOLVER.IMS_PER_BATCH = 2\n",
    "cfg.SOLVER.BASE_LR = 0.00025  # pick a good LR\n",
    "cfg.SOLVER.MAX_ITER = 300    # 300 iterations seems good enough for this toy dataset; you may need to train longer for a practical dataset\n",
    "cfg.MODEL.ROI_HEADS.BATCH_SIZE_PER_IMAGE = 4096   # faster, and good enough for this toy dataset (default: 512)\n",
    "cfg.MODEL.ROI_HEADS.NUM_CLASSES = 6 \n",
    "\n",
    "os.makedirs(cfg.OUTPUT_DIR, exist_ok=True)\n",
    "trainer = DefaultTrainer(cfg) \n",
    "trainer.resume#_or_load(resume=False)\n",
    "trainer.train()\n",
    "#It will train about 20 minutes in colab."
   ]
  },
  {
   "cell_type": "code",
   "execution_count": null,
   "metadata": {
    "id": "3r9rHeQzxcsN"
   },
   "outputs": [],
   "source": [
    "cfg.MODEL.WEIGHTS = os.path.join(cfg.OUTPUT_DIR, \"model_final.pth\")\n",
    "cfg.MODEL.ROI_HEADS.SCORE_THRESH_TEST = 0.7   # set the testing threshold for this model\n",
    "cfg.DATASETS.TEST = (\"PCB_test\", )\n",
    "predictor = DefaultPredictor(cfg)"
   ]
  },
  {
   "cell_type": "code",
   "execution_count": null,
   "metadata": {
    "id": "xIto29Kh5h_I"
   },
   "outputs": [],
   "source": [
    "from detectron2.utils.visualizer import ColorMode\n",
    "dataset_dicts = get_PCB_dict(test)"
   ]
  },
  {
   "cell_type": "code",
   "execution_count": null,
   "metadata": {
    "colab": {
     "base_uri": "https://localhost:8080/",
     "height": 1000
    },
    "id": "fwuqvOGc5iRW",
    "outputId": "79b415b0-45ff-416b-9924-318e7d2de647"
   },
   "outputs": [],
   "source": [
    "for d in random.sample(dataset_dicts, 3):\n",
    "    im = cv2.imread(d[\"file_name\"])\n",
    "    outputs = predictor(im)\n",
    "    v = Visualizer(im,\n",
    "                   metadata=PCB_metadata, \n",
    "                   scale=0.8,\n",
    "                   instance_mode =  ColorMode.IMAGE\n",
    "        )\n",
    "                   # remove the colors of unsegmented pixels\n",
    "    print(outputs['instances'].pred_classes)\n",
    "    print(outputs[\"instances\"].pred_boxes)\n",
    "\n",
    "    v = v.draw_instance_predictions(outputs[\"instances\"].to(\"cpu\"))\n",
    "    cv2_imshow(v.get_image())"
   ]
  },
  {
   "cell_type": "code",
   "execution_count": null,
   "metadata": {
    "colab": {
     "base_uri": "https://localhost:8080/"
    },
    "id": "YfQ-V3As5kiC",
    "outputId": "1aef6e65-ecde-4226-ca52-93b52ebe62f2"
   },
   "outputs": [],
   "source": [
    "from detectron2.evaluation import COCOEvaluator, inference_on_dataset, LVISEvaluator\n",
    "from detectron2.data import build_detection_test_loader\n",
    "\n",
    "evaluator = COCOEvaluator(\"PCB_test\", cfg, False, output_dir=\"./output/\")\n",
    "val_loader = build_detection_test_loader(cfg, \"PCB_test\")\n",
    "inference_on_dataset(trainer.model, val_loader, evaluator)\n",
    "# another equivalent way is to use trainer.test"
   ]
  },
  {
   "cell_type": "code",
   "execution_count": null,
   "metadata": {
    "id": "TNjYbtHL6lSy"
   },
   "outputs": [],
   "source": []
  },
  {
   "cell_type": "code",
   "execution_count": null,
   "metadata": {},
   "outputs": [],
   "source": []
  }
 ],
 "metadata": {
  "accelerator": "GPU",
  "colab": {
   "name": "PCBdata_fasterRCNN_colab.ipynb",
   "provenance": []
  },
  "kernelspec": {
   "display_name": "venv3",
   "language": "python",
   "name": "venv3"
  },
  "language_info": {
   "codemirror_mode": {
    "name": "ipython",
    "version": 3
   },
   "file_extension": ".py",
   "mimetype": "text/x-python",
   "name": "python",
   "nbconvert_exporter": "python",
   "pygments_lexer": "ipython3",
   "version": "3.6.9"
  }
 },
 "nbformat": 4,
 "nbformat_minor": 1
}
